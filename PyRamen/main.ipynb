{
 "cells": [
  {
   "cell_type": "code",
   "execution_count": 42,
   "metadata": {},
   "outputs": [],
   "source": [
    "import csv\n",
    "import sys\n",
    "# Make empty lists for menu and sales:\n",
    "menu = []\n",
    "sales = []\n",
    "# Read in menu and sales data from .csv files,\n",
    "# skipping the headers, and store in memory:\n",
    "with open(\"menu_data.csv\", 'r') as menu_file, open(\"sales_data.csv\",'r') as sales_file:\n",
    "    menu_reader = csv.reader(menu_file, delimiter =',')\n",
    "    sales_reader = csv.reader(sales_file,delimiter =',')\n",
    "    next(menu_reader,None)\n",
    "    next(sales_reader,None)\n",
    "    for row in menu_reader:\n",
    "        menu.append(row)\n",
    "    for row in sales_reader:\n",
    "        sales.append(row)\n",
    "\n",
    "\n"
   ]
  },
  {
   "cell_type": "code",
   "execution_count": 56,
   "metadata": {},
   "outputs": [
    {
     "ename": "TypeError",
     "evalue": "string indices must be integers",
     "output_type": "error",
     "traceback": [
      "\u001b[1;31m---------------------------------------------------------------------------\u001b[0m",
      "\u001b[1;31mTypeError\u001b[0m                                 Traceback (most recent call last)",
      "\u001b[1;32m~\\AppData\\Local\\Temp/ipykernel_17612/3554722030.py\u001b[0m in \u001b[0;36m<module>\u001b[1;34m\u001b[0m\n\u001b[0;32m     44\u001b[0m \u001b[1;32mfor\u001b[0m \u001b[0mitem_dicts\u001b[0m \u001b[1;32min\u001b[0m \u001b[0mreport\u001b[0m\u001b[1;33m.\u001b[0m\u001b[0mkeys\u001b[0m\u001b[1;33m(\u001b[0m\u001b[1;33m)\u001b[0m\u001b[1;33m:\u001b[0m\u001b[1;33m\u001b[0m\u001b[1;33m\u001b[0m\u001b[0m\n\u001b[0;32m     45\u001b[0m     \u001b[1;32mfor\u001b[0m \u001b[0mkeys\u001b[0m \u001b[1;32min\u001b[0m \u001b[0muser_keys\u001b[0m\u001b[1;33m:\u001b[0m\u001b[1;33m\u001b[0m\u001b[1;33m\u001b[0m\u001b[0m\n\u001b[1;32m---> 46\u001b[1;33m         \u001b[0mprint\u001b[0m\u001b[1;33m(\u001b[0m\u001b[0mitem_dicts\u001b[0m\u001b[1;33m[\u001b[0m\u001b[0mkeys\u001b[0m\u001b[1;33m]\u001b[0m\u001b[1;33m)\u001b[0m\u001b[1;33m\u001b[0m\u001b[1;33m\u001b[0m\u001b[0m\n\u001b[0m\u001b[0;32m     47\u001b[0m \u001b[1;33m\u001b[0m\u001b[0m\n",
      "\u001b[1;31mTypeError\u001b[0m: string indices must be integers"
     ]
    }
   ],
   "source": [
    "# Make report dict and keys for nested dict:\n",
    "report = {}\n",
    "user_keys = [\"01-count\",\"02-revenue\",\"03-cogs\",\"04-profit\"]\n",
    "# Make a function so that we don't have to lookup \n",
    "# the price and cost every time\n",
    "def match_price_cost(item_sold, _menu, out_dict, user_keys):\n",
    "    \"\"\"extracts price/cost/profit data of a sold item from a menu,\n",
    "        then creates a nested dictionary inside out_dict with\n",
    "        user defined keys \"\"\"\n",
    "    update_done = False\n",
    "    # loop through the lists stored in _menu:\n",
    "    for item in _menu:\n",
    "        # check for matching item\n",
    "        if item_sold == item[0] and not update_done:\n",
    "            # create a nested dict in out_dict,\n",
    "            # add price and cost to out_dict,\n",
    "            out_dict[item_sold] = {}\n",
    "            out_dict[item_sold][\"--price\"]= float(item[-2])\n",
    "            out_dict[item_sold][\"--cost\"]= float(item[-1])\n",
    "            out_dict[item_sold][\"--profit\"]= float(out_dict[item_sold][\"--price\"] - out_dict[item_sold][\"--cost\"])\n",
    "            # add user defined keys:\n",
    "            for key in user_keys:\n",
    "                out_dict[item_sold][key]= 0\n",
    "            update_done = True\n",
    "    if update_done == False: \n",
    "        print(f\"{item_sold} cannot be found in Menu! Update Menu!\")\n",
    "        sys.exit(1)\n",
    "    return None\n",
    "\n",
    "\n",
    "# Build Report dict: \n",
    "for sale in sales:\n",
    "    sale_item = sale[-1]\n",
    "    quantity = float(sale[-2])\n",
    "    if sale_item in report.keys():\n",
    "        dict_pointer = report[sale_item]\n",
    "        dict_pointer[\"01-count\"] += quantity\n",
    "        dict_pointer[\"02-revenue\"] += dict_pointer[\"--price\"] * quantity\n",
    "        dict_pointer[\"03-cogs\"] += dict_pointer[\"--cost\"] * quantity\n",
    "        dict_pointer[\"04-profit\"] += dict_pointer[\"--profit\"] * quantity\n",
    "    else:\n",
    "        match_price_cost(sale_item, menu, report, user_keys)\n",
    "\n",
    "    \n"
   ]
  },
  {
   "cell_type": "code",
   "execution_count": null,
   "metadata": {},
   "outputs": [],
   "source": []
  }
 ],
 "metadata": {
  "interpreter": {
   "hash": "fa255420356ea7b8b1abd19e266533641182e2fd8598ce820e197abaf7711f98"
  },
  "kernelspec": {
   "display_name": "Python 3.9.10 64-bit (windows store)",
   "language": "python",
   "name": "python3"
  },
  "language_info": {
   "codemirror_mode": {
    "name": "ipython",
    "version": 3
   },
   "file_extension": ".py",
   "mimetype": "text/x-python",
   "name": "python",
   "nbconvert_exporter": "python",
   "pygments_lexer": "ipython3",
   "version": "3.9.10"
  },
  "orig_nbformat": 4
 },
 "nbformat": 4,
 "nbformat_minor": 2
}
