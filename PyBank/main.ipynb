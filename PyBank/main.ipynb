{
 "cells": [
  {
   "cell_type": "code",
   "execution_count": 65,
   "metadata": {},
   "outputs": [],
   "source": [
    "import os\n",
    "import sys\n",
    "import re\n",
    "\n"
   ]
  },
  {
   "cell_type": "code",
   "execution_count": 92,
   "metadata": {},
   "outputs": [
    {
     "name": "stdout",
     "output_type": "stream",
     "text": [
      "Financial Analysis\n",
      "----------------------------\n",
      "Total Months: 86\n",
      "Total: $38382578\n",
      "Average Change: $-2288.2\n",
      "Greatest Increase in Profits: Feb-2012 ($1170593)\n",
      "Greatest Decrease in Profits: Sep-2013 ($-1196225)\n"
     ]
    }
   ],
   "source": [
    "\n",
    "budget = {}\n",
    "pl_list = []\n",
    "pl_change = []\n",
    "\n",
    "with open(\"budget_data.csv\", newline=None) as f:\n",
    "\n",
    "    i = -1\n",
    "\n",
    "    for line in f: \n",
    "        i += 1 #this will let us skip the header\n",
    "        if i >= 0:\n",
    "            _match = re.search(r'(\\w\\w\\w-\\d\\d\\d\\d),(.+)', line)\n",
    "            if _match:\n",
    "                budget[_match.group(1)] = int(_match.group(2))\n",
    "    x_total = 0\n",
    "    x_change = 0\n",
    "    x_high = 0\n",
    "    x_low = 0\n",
    "    for k in budget:\n",
    "        if budget[k] > x_high:\n",
    "            x_high = budget[k]\n",
    "            x_high_date = k\n",
    "        elif budget[k] < x_low:\n",
    "            x_low = budget[k]\n",
    "            x_low_date = k\n",
    "        pl_list.append(budget[k])\n",
    "        x_total = x_total + budget[k]       \n",
    "        if len(pl_list)>1:\n",
    "            x_change = x_change + (pl_list[-1] - pl_list[-2])\n",
    "            pl_change.append(pl_list[-1] - pl_list[-2])\n",
    "\n",
    "\n",
    "\n",
    "    print('Financial Analysis')\n",
    "    print('----------------------------')\n",
    "    print('Total Months:' + ' ' + str(i))\n",
    "    print('Total:' + ' ' + '$' + str(x_total) )\n",
    "    print('Average Change:'+ ' ' + '$'+ str(round(x_change/len(pl_list),2)))\n",
    "    print('Greatest Increase in Profits: '+ x_high_date + \" \"+\"(\"+\"$\"+str(x_high)+\")\" )\n",
    "    print('Greatest Decrease in Profits: '+ x_low_date + \" \"+\"(\"+\"$\"+str(x_low)+\")\" )\n",
    "\n",
    "\n",
    " \n"
   ]
  }
 ],
 "metadata": {
  "interpreter": {
   "hash": "317b78edde00bc4256311d4e714376712818880d4f09469ec991bbb7c62c2891"
  },
  "kernelspec": {
   "display_name": "Python 3.7.11 64-bit ('base': conda)",
   "language": "python",
   "name": "python3"
  },
  "language_info": {
   "codemirror_mode": {
    "name": "ipython",
    "version": 3
   },
   "file_extension": ".py",
   "mimetype": "text/x-python",
   "name": "python",
   "nbconvert_exporter": "python",
   "pygments_lexer": "ipython3",
   "version": "3.7.11"
  },
  "orig_nbformat": 4
 },
 "nbformat": 4,
 "nbformat_minor": 2
}
